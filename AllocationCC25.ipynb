{
 "cells": [
  {
   "cell_type": "markdown",
   "metadata": {},
   "source": [
    "*  This program computes \n",
    "*    the optimal portfolio with n>1 risky asset and 1 risk-free asset \n",
    "*     Here we use the 25 Fama-French port and compare the result with investing mkt \n",
    "*  it differs from the L3_Allocation25.ipynb by impoising followin portfolio weights:\n",
    "*\n",
    "*                           a_1 <= w_1 <= b_1,\n",
    "*                           a_2 <= w_2 <= b_2,\n",
    "*                        ........................\n",
    "*                           a_25 <= w_25 <= b_25\n",
    "*                                                 "
   ]
  },
  {
   "cell_type": "code",
   "execution_count": 10,
   "metadata": {},
   "outputs": [
    {
     "name": "stdout",
     "output_type": "stream",
     "text": [
      "   \n",
      "\n",
      "Rsik avrersion and Optimal wight on the market \n",
      "\n",
      "        3.0000  0.6998  \n",
      " \n",
      "   \n",
      "\n",
      "The Optimal wights on the 25 assets \n",
      "\n",
      "[-0.5865971  -0.89082103 -0.366633    0.45161084  1.60823242 -1.18202301\n",
      "  0.06694074  1.02665453  0.49808835  0.14849162 -1.2909836   0.3962927\n",
      "  1.14326436  0.45186603  0.2450602   2.01804584 -1.76692265  0.07983757\n",
      "  0.58006485 -0.70043943  0.63997961 -0.0797812   0.55225776 -1.38074819\n",
      " -0.36712308]\n",
      "   \n",
      "\n",
      "The rest is on riskfree asset \n",
      "\n",
      "[-0.29461512]\n"
     ]
    }
   ],
   "source": [
    "import pandas as pd                     # To load data, we use the package pandas\n",
    "import numpy as np\n",
    "import matplotlib.pyplot as plt\n",
    "\n",
    "import cvxopt                 # install it first by running: \"pip install cvxopt\" via Spyder\n",
    "from cvxopt import matrix, solvers\n",
    " \n",
    "%matplotlib inline\n",
    "\n",
    "# Load the data \n",
    "\n",
    "df = pd.read_excel('Factors_July26_July11.xlsx')        # It has 5 columns:  date, mkt, size, b/m, riskree rate\n",
    "                                                    # downloaded from Ken French's website\n",
    "df2 = pd.read_excel('FF25_July26_July11.xlsx')       # return on 25 FF portfolios from Ken French's web\n",
    "\n",
    "mkt = df.loc[:,\"mkt\"]/100                       # Mkt excess return;  divided by 100 due to data are in %\n",
    "rf = df.loc[:,\"rate\"]/100\n",
    "\n",
    "R1 = df2.loc[:,'FF1' : 'FF25']/100        # extract the 25 returns, R1 is T by 25. \n",
    "\n",
    "R1 = np.array(R1)                         # convert list to array to apply np.functions\n",
    "rf = np.array(rf)                         # convert list to array to apply np.functions\n",
    "T = len(df)                               # The number of obs\n",
    "Re = np.ones((T,25))                           # creat storage for excess returns\n",
    "\n",
    "for i in range(25):\n",
    "    Re[:,i] = R1[:,i] - rf                # the excess return:  each indu substracts riskfree rate, Re[:,i]-rf\n",
    "\n",
    "mu5 = np.mean(Re, axis = 0)              # the mean taking each column of the matrix, a row vector of 25\n",
    "mu5 = mu5.T                              # make it a column vector\n",
    "V5 = np.cov(Re.T)                        # the covariance estimate, 25 by 25 \n",
    "\n",
    "VI = np.linalg.inv(V5)                     # The inverse of V\n",
    "\n",
    "# The optimal weights on the 5 risky aasets\n",
    "\n",
    "gamma = 3                             # The risk-averse coeff.\n",
    "\n",
    "w5 = 1/gamma*np.matmul(VI, mu5)\n",
    "\n",
    "                        \n",
    "mu = mkt.mean()                          # The expected mkt excess return\n",
    "sig2 = mkt.var()                         # The var of the mkt excess return\n",
    "sigma = np.sqrt(sig2)                    # Its vol\n",
    "\n",
    "w = (1/gamma)*mu/sig2                     # The optimal weight on mkt\n",
    "\n",
    "print('   \\n')\n",
    "print('Rsik avrersion and Optimal wight on the market \\n')\n",
    "print('        {0:.4f}  {1:.4f}  \\n '.format(gamma,w))   \n",
    "print('   \\n')\n",
    "print('The Optimal wights on the 25 assets \\n')\n",
    "print(w5)   \n",
    "w_rf = 1 - np.dot(w5, np.ones((25,1)))\n",
    "print('   \\n')\n",
    "print('The rest is on riskfree asset \\n')\n",
    "print(w_rf)  "
   ]
  },
  {
   "cell_type": "code",
   "execution_count": 11,
   "metadata": {},
   "outputs": [
    {
     "name": "stdout",
     "output_type": "stream",
     "text": [
      "[[2.30325181e-08 4.10079198e-08 1.01678063e-07 6.09802097e-07\n",
      "  1.99999444e-01 5.05561572e-08 1.47673907e-07 5.62595802e-02\n",
      "  5.00294795e-06 9.30973434e-07 6.66744072e-08 9.79032716e-07\n",
      "  1.99999341e-01 1.99999097e-01 4.70166378e-07 3.43204142e-07\n",
      "  2.08983573e-07 8.75592316e-07 5.10651201e-06 1.29845416e-07\n",
      "  4.90643381e-07 6.86044225e-07 3.76600370e-07 1.11704020e-07\n",
      "  1.75100468e-08]]\n",
      "[[-0.5865971  -0.89082103 -0.366633    0.45161084  1.60823242 -1.18202301\n",
      "   0.06694074  1.02665453  0.49808835  0.14849162 -1.2909836   0.3962927\n",
      "   1.14326436  0.45186603  0.2450602   2.01804584 -1.76692265  0.07983757\n",
      "   0.58006485 -0.70043943  0.63997961 -0.0797812   0.55225776 -1.38074819\n",
      "  -0.36712308]]\n"
     ]
    }
   ],
   "source": [
    "# Compute the the Opt Port under bound constraints \n",
    "\n",
    "Q = gamma * V5        # the mapping of utility paramters into quadratic programming\n",
    "Q = matrix(Q)\n",
    "q = -mu5\n",
    "q = matrix(q)\n",
    "\n",
    "lb = np.ones((1, 25)) * 0.0                          # lower bound\n",
    "ub = np.ones((1, 25)) * 0.2                         # upper bound\n",
    "h = np.append(ub, lb, axis = 1)\n",
    "h = h.T\n",
    "h = matrix(h)\n",
    "\n",
    "G1 = np.eye(25)                           # identiy matrix of order 5\n",
    "G2 = - np.eye(25)\n",
    "G = np.append(G1, G2, axis = 0)\n",
    "G = matrix(G)\n",
    "\n",
    "solvers.options['show_progress'] = False  # this prevent print progress data\n",
    "                                          # we do not really need\n",
    "\n",
    "sol = solvers.qp(Q, q, G, h)     # Format:  solvers.qp(Q, q, G, h, A, b) \n",
    "sola = np.array(sol['x'])\n",
    "\n",
    "print(sola.T)\n",
    "\n",
    "sol1 = solvers.qp(Q, q)          # using the solver for the unconstrained solution\n",
    "solb = np.array(sol1['x'])\n",
    "print(solb.T)"
   ]
  },
  {
   "cell_type": "code",
   "execution_count": 12,
   "metadata": {},
   "outputs": [
    {
     "name": "stdout",
     "output_type": "stream",
     "text": [
      "[[5.66204247e-09 8.75520765e-09 1.72769049e-08 5.17749279e-08\n",
      "  1.91261088e-01 1.08686731e-08 2.80220978e-08 8.73576697e-02\n",
      "  3.88086027e-07 5.70595355e-08 1.33305079e-08 1.07645273e-06\n",
      "  1.99999740e-01 1.99999675e-01 4.90446184e-08 1.68166868e-07\n",
      "  6.23862567e-08 2.43038966e-06 3.58690735e-06 1.95811540e-08\n",
      "  1.21371532e-01 1.99998958e-01 3.33465213e-06 2.30280792e-08\n",
      "  4.96229343e-09]]\n",
      "[[1.]]\n"
     ]
    }
   ],
   "source": [
    "# Compute the the Opt Port under bound constraints & weights sum to 1\n",
    "\n",
    "A = np.ones((1,25),np.float64)        # make sure it is float, not integer\n",
    "A = matrix(A)\n",
    "b = 1.0\n",
    "b = matrix(b)\n",
    "\n",
    "sol = solvers.qp(Q, q, G, h,A,b)     # Format:  solvers.qp(Q, q, G, h, A, b) \n",
    "solc = np.array(sol['x'])\n",
    "\n",
    "print(solc.T)\n",
    "\n",
    "c = np.dot(A,solc)   # double check the weights sum to 1\n",
    "\n",
    "print(c)"
   ]
  },
  {
   "cell_type": "code",
   "execution_count": 13,
   "metadata": {},
   "outputs": [
    {
     "name": "stdout",
     "output_type": "stream",
     "text": [
      "The Annualized Sharpe ratios of the Opt Port and Mkt \n",
      "\n",
      "          0.5201   0.3963  \n",
      "\n"
     ]
    }
   ],
   "source": [
    "# Compute the Sharpe Ratio of the Opt Port and Mkt\n",
    "\n",
    "w5 = np.array((sola))\n",
    "\n",
    "w5.shape = (1,25)\n",
    "\n",
    "Port=np.ones((T,1))             # define this T vector to store the returns on the portfolio\n",
    "\n",
    "Port[0] = np.dot(w5,Re[0]) + rf[0]      # return in the first period \n",
    "\n",
    "for t in range(T):\n",
    "    Port[t] = np.dot(w5,Re[t]) + rf[t]  \n",
    "\n",
    "ExPort = Port - rf                       # excess return of the optimla portfolio\n",
    "muP = ExPort.mean()\n",
    "sig2P = ExPort.var()\n",
    "sigP = np.sqrt(sig2P)\n",
    "SharpeP = np.sqrt(12)*muP/sigP\n",
    "\n",
    "# For the mkt\n",
    " \n",
    "Sharpe = np.sqrt(12)*mu/sigma\n",
    "\n",
    "print('The Annualized Sharpe ratios of the Opt Port and Mkt \\n')\n",
    "print('          {0:.4f}   {1:.4f}  \\n'.format(SharpeP, Sharpe)) "
   ]
  },
  {
   "cell_type": "code",
   "execution_count": 14,
   "metadata": {},
   "outputs": [
    {
     "name": "stdout",
     "output_type": "stream",
     "text": [
      "Terminal wealth in Opt Port and Mkt  \n",
      "\n",
      "10581.883677347367\n",
      "2540.3983705076002\n"
     ]
    }
   ],
   "source": [
    "# Compute the accu returns of the opt port and the mkt\n",
    "\n",
    "CC_Port = np.ones((T,))          # to store the accumulative returns   \n",
    "CC = np.ones((T,))          # to store the accumulative returns \n",
    "\n",
    "mkt2 = mkt + rf       # Add back riskfree rate to get pure mkt return\n",
    "\n",
    "CC_Port[0] = 1+Port[0]             # initial accu return\n",
    "CC[0] = 1 + mkt2[0]                 # initial accu return\n",
    "\n",
    "for t in range(T-1):\n",
    "    CC_Port[t+1] = CC_Port[t]*(1+Port[t+1])\n",
    "    CC[t+1] = CC[t]*(1+mkt2[t+1])\n",
    "    \n",
    "print('Terminal wealth in Opt Port and Mkt  \\n')\n",
    "print(CC_Port[T-1])  \n",
    "print(CC[T-1])  "
   ]
  },
  {
   "cell_type": "code",
   "execution_count": 9,
   "metadata": {},
   "outputs": [
    {
     "data": {
      "image/png": "[encoded data removed]",
      "text/plain": [
       "<Figure size 432x288 with 1 Axes>"
      ]
     },
     "metadata": {
      "needs_background": "light"
     },
     "output_type": "display_data"
    }
   ],
   "source": [
    "# plot the accu returns  \n",
    "\n",
    "p=plt.plot(CC_Port)\n",
    "p1 = plt.plot(CC)"
   ]
  },
  {
   "cell_type": "code",
   "execution_count": null,
   "metadata": {},
   "outputs": [],
   "source": []
  },
  {
   "cell_type": "code",
   "execution_count": null,
   "metadata": {},
   "outputs": [],
   "source": []
  }
 ],
 "metadata": {
  "anaconda-cloud": {},
  "kernelspec": {
   "display_name": "Python 3",
   "language": "python",
   "name": "python3"
  },
  "language_info": {
   "codemirror_mode": {
    "name": "ipython",
    "version": 3
   },
   "file_extension": ".py",
   "mimetype": "text/x-python",
   "name": "python",
   "nbconvert_exporter": "python",
   "pygments_lexer": "ipython3",
   "version": "3.7.6"
  }
 },
 "nbformat": 4,
 "nbformat_minor": 1
}
