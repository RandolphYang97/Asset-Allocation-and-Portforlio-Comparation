{
 "cells": [
  {
   "cell_type": "markdown",
   "metadata": {},
   "source": [
    "*  This is a function computing the optimal portfolio weights based on the analytical formula (no constraints)"
   ]
  },
  {
   "cell_type": "code",
   "execution_count": null,
   "metadata": {},
   "outputs": [],
   "source": [
    "#\\  given the risk aversion and data (T by N), the program estimates the mean and covariance by the sample mean\n",
    "#\\      and smple covariance and then use the optimal portfolio formula (no constraints)\n",
    " \n",
    "import numpy as np        # This is important. This function/module will not work without it.\n",
    "\n",
    "def weights(gamma,R):                   \n",
    "    T = len(R)       # indent 4 space, standard; length, height\n",
    "    N = len(R[0])    # # of columns\n",
    "    mu = np.mean(R, axis = 0)              # the mean taking each column of the matrix, a row vector of N\n",
    "    mu = mu.T                              # make it a column vector\n",
    "    V = np.cov(R.T)                        # the covariance estimate, N by N\n",
    "    VI = np.linalg.inv(V)                     # The inverse of V\n",
    "    w = 1/gamma*np.matmul(VI, mu)\n",
    "    return w\n"
   ]
  },
  {
   "cell_type": "code",
   "execution_count": null,
   "metadata": {},
   "outputs": [],
   "source": [
    "#\\  given the risk aversion and data (T by N), the program estimates the mean and covariance by the sample mean\n",
    "#\\      and smple covariance and then use the optimal portfolio formula (no constraints)\n",
    "\n",
    "import numpy as np        # This is important. This function/module will not work without it.\n",
    "\n",
    "def weights2(gamma,R):                   \n",
    "    T = len(R)       # indent 4 space, standard; length, height\n",
    "    N = len(R[0])    # # of columns\n",
    "    mu = np.mean(R, axis = 0)              # the mean taking each column of the matrix, a row vector of N\n",
    "    mu = mu.T                              # make it a column vector\n",
    "    V = np.cov(R.T)                        # the covariance estimate, N by N\n",
    "    VI = np.linalg.inv(V)                     # The inverse of V\n",
    "    w = 1/gamma*np.matmul(VI, mu)\n",
    "    return w, N, T"
   ]
  },
  {
   "cell_type": "code",
   "execution_count": null,
   "metadata": {},
   "outputs": [],
   "source": []
  },
  {
   "cell_type": "code",
   "execution_count": null,
   "metadata": {},
   "outputs": [],
   "source": []
  },
  {
   "cell_type": "code",
   "execution_count": null,
   "metadata": {},
   "outputs": [],
   "source": []
  },
  {
   "cell_type": "code",
   "execution_count": null,
   "metadata": {},
   "outputs": [],
   "source": []
  }
 ],
 "metadata": {
  "anaconda-cloud": {},
  "kernelspec": {
   "display_name": "Python 3",
   "language": "python",
   "name": "python3"
  },
  "language_info": {
   "codemirror_mode": {
    "name": "ipython",
    "version": 3
   },
   "file_extension": ".py",
   "mimetype": "text/x-python",
   "name": "python",
   "nbconvert_exporter": "python",
   "pygments_lexer": "ipython3",
   "version": "3.7.6"
  }
 },
 "nbformat": 4,
 "nbformat_minor": 1
}
