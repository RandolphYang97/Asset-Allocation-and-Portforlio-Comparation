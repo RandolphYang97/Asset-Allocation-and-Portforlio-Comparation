{
 "cells": [
  {
   "cell_type": "markdown",
   "metadata": {},
   "source": [
    "*  This program does the same as L3_Allocation5,  but\n",
    "*  it computes the portfolio weights using a function:  that maps the risk aversion,\n",
    "*   mean and covariance matrix into the unconctrained optimal portfolio\n",
    "*\n",
    "*   The purpose is to learn how to define function and use it in Python\n",
    "*    We use two ways:  1) output is the weights only;  2) multiple outputs \n",
    "*   Note:   the function is in a separte file, name.py,  and so we need to import it. "
   ]
  },
  {
   "cell_type": "code",
   "execution_count": 1,
   "metadata": {},
   "outputs": [
    {
     "name": "stdout",
     "output_type": "stream",
     "text": [
      "[0.00694456 0.00686983 0.00631195 0.00774251 0.00594927]\n",
      "   \n",
      "\n",
      "The Optimal weights, N=5  \n",
      "\n",
      "[ 0.69542253  0.6604779   0.05889521  0.54013127 -0.93355514]\n",
      "   \n",
      "\n",
      "The Optimal weights, # of Assets, and # of Periods  \n",
      "\n",
      "[array([ 0.69542253,  0.6604779 ,  0.05889521,  0.54013127, -0.93355514]), 5, 1021]\n"
     ]
    }
   ],
   "source": [
    "import pandas as pd                     # To load data, we use the package pandas\n",
    "import numpy as np\n",
    "import L3_portweights_f                 # the functions we defined \n",
    "\n",
    "# Load the data \n",
    "\n",
    "df = pd.read_excel('Factors_July26_July11.xlsx')        # It has 5 columns:  date, mkt, size, b/m, riskree rate\n",
    "                                                    # downloaded from Ken French's website\n",
    "df2 = pd.read_excel('Indu5_July26_July11.xlsx')       # return on 5 industry portfolios from Ken French's web\n",
    "\n",
    "mkt = df.loc[:,\"mkt\"]/100                       # Mkt excess return;  divided by 100 due to data are in %\n",
    "rf = df.loc[:,\"rate\"]/100\n",
    "\n",
    "R1 = df2.loc[:,'Indu1' : 'Indu5']/100        # extract the 5 industry returns, R1 is T by 5. \n",
    "\n",
    "R1 = np.array(R1)                         # convert list to array to apply np.functions\n",
    "rf = np.array(rf)                         # convert list to array to apply np.functions\n",
    "T = len(df)                               # The number of obs\n",
    "Re = np.ones((T,5))                           # creat storage for excess returns\n",
    "\n",
    "for i in range(5):\n",
    "    Re[:,i] = R1[:,i] - rf                # the excess return:  each indu substracts riskfree rate, Re[:,i]-rf\n",
    "\n",
    "mu = np.mean(Re, axis = 0) \n",
    "print(mu)\n",
    "gamma = 3\n",
    "w = L3_portweights_f.weights(gamma,Re) \n",
    "print('   \\n')\n",
    "print('The Optimal weights, N=5  \\n')\n",
    "print(w)   \n",
    " \n",
    "w1, n1, T1 = L3_portweights_f.weights2(gamma,Re)\n",
    "\n",
    "print('   \\n')\n",
    "print('The Optimal weights, # of Assets, and # of Periods  \\n')\n",
    "print([w1,n1,T1])   \n",
    " \n"
   ]
  },
  {
   "cell_type": "code",
   "execution_count": null,
   "metadata": {},
   "outputs": [],
   "source": []
  }
 ],
 "metadata": {
  "anaconda-cloud": {},
  "kernelspec": {
   "display_name": "Python 3",
   "language": "python",
   "name": "python3"
  },
  "language_info": {
   "codemirror_mode": {
    "name": "ipython",
    "version": 3
   },
   "file_extension": ".py",
   "mimetype": "text/x-python",
   "name": "python",
   "nbconvert_exporter": "python",
   "pygments_lexer": "ipython3",
   "version": "3.7.6"
  }
 },
 "nbformat": 4,
 "nbformat_minor": 1
}
