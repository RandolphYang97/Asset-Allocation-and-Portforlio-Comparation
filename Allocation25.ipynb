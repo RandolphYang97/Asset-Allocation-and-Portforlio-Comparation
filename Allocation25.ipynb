{
 "cells": [
  {
   "cell_type": "markdown",
   "metadata": {},
   "source": [
    "*  This program computes \n",
    "*    the optimal portfolio with n>1 risky asset and 1 risk-free asset \n",
    "*     Here we use the 25 Fama-French port and compare the result with investing mkt "
   ]
  },
  {
   "cell_type": "code",
   "execution_count": 4,
   "metadata": {},
   "outputs": [
    {
     "name": "stdout",
     "output_type": "stream",
     "text": [
      "   \n",
      "\n",
      "Rsik avrersion and Optimal wight on the market \n",
      "\n",
      "        3.0000  0.6998  \n",
      " \n",
      "   \n",
      "\n",
      "The Optimal wights on the 25 assets \n",
      "\n",
      "[-0.5865971  -0.89082103 -0.366633    0.45161084  1.60823242 -1.18202301\n",
      "  0.06694074  1.02665453  0.49808835  0.14849162 -1.2909836   0.3962927\n",
      "  1.14326436  0.45186603  0.2450602   2.01804584 -1.76692265  0.07983757\n",
      "  0.58006485 -0.70043943  0.63997961 -0.0797812   0.55225776 -1.38074819\n",
      " -0.36712308]\n",
      "   \n",
      "\n",
      "The rest is on riskfree asset \n",
      "\n",
      "[-0.29461512]\n"
     ]
    }
   ],
   "source": [
    "import pandas as pd                     # To load data, we use the package pandas\n",
    "import numpy as np\n",
    "import matplotlib.pyplot as plt\n",
    "%matplotlib inline\n",
    "\n",
    "# Load the data \n",
    "\n",
    "df = pd.read_excel('Factors_July26_July11.xlsx')        # It has 5 columns:  date, mkt, size, b/m, riskree rate\n",
    "                                                    # downloaded from Ken French's website\n",
    "df2 = pd.read_excel('FF25_July26_July11.xlsx')       # return on 25 FF portfolios from Ken French's web\n",
    "\n",
    "mkt = df.loc[:,\"mkt\"]/100                       # Mkt excess return;  divided by 100 due to data are in %\n",
    "rf = df.loc[:,\"rate\"]/100\n",
    "\n",
    "R1 = df2.loc[:,'FF1' : 'FF25']/100        # extract the 25 FF returns, R1 is T by 25. \n",
    "\n",
    "R1 = np.array(R1)                         # convert list to array to apply np.functions\n",
    "rf = np.array(rf)                         # convert list to array to apply np.functions\n",
    "T = len(df)                               # The number of obs\n",
    "Re = np.ones((T,25))                           # creat storage for excess returns\n",
    "\n",
    "for i in range(25):\n",
    "    Re[:,i] = R1[:,i] - rf                # the excess return:  each indu substracts riskfree rate, Re[:,i]-rf\n",
    "\n",
    "mu5 = np.mean(Re, axis = 0)              # the mean taking each column of the matrix, a row vector of 25\n",
    "mu5 = mu5.T                              # make it a column vector\n",
    "V5 = np.cov(Re.T)                        # the covariance estimate, 25 by 25 \n",
    "\n",
    "VI = np.linalg.inv(V5)                     # The inverse of V\n",
    "\n",
    "# The optimal weights on the 5 risky aasets\n",
    "\n",
    "gamma = 3                             # The risk-averse coeff.\n",
    "\n",
    "w5 = 1/gamma*np.matmul(VI, mu5)          # 1/gamma*VI*mu5\n",
    "\n",
    "                        \n",
    "mu = mkt.mean()                          # The expected mkt excess return\n",
    "sig2 = mkt.var()                         # The var of the mkt excess return\n",
    "sigma = np.sqrt(sig2)                    # Its vol\n",
    "\n",
    "w = (1/gamma)*mu/sig2                     # The optimal weight on mkt\n",
    "\n",
    "print('   \\n')\n",
    "print('Rsik avrersion and Optimal wight on the market \\n')\n",
    "print('        {0:.4f}  {1:.4f}  \\n '.format(gamma,w))   \n",
    "print('   \\n')\n",
    "print('The Optimal wights on the 25 assets \\n')\n",
    "print(w5)   \n",
    "w_rf = 1 - np.dot(w5, np.ones((25,1)))\n",
    "print('   \\n')\n",
    "print('The rest is on riskfree asset \\n')\n",
    "print(w_rf)  "
   ]
  },
  {
   "cell_type": "code",
   "execution_count": 5,
   "metadata": {},
   "outputs": [
    {
     "name": "stdout",
     "output_type": "stream",
     "text": [
      "The Annualized Sharpe ratios of the Opt Port and Mkt \n",
      "\n",
      "          1.1482   0.3963  \n",
      "\n"
     ]
    }
   ],
   "source": [
    "# Compute the Sharpe Ratio of the Opt Port and Mkt\n",
    "\n",
    "\n",
    "Port=np.ones((T,))             # define this T vector to store the returns on the portfolio\n",
    "\n",
    "Port[0] = np.dot(w5,Re[0]) + rf[0]      # return in the first period;  the weight on rf is absorbed \n",
    "                                       # into the previous excess return term, see formulas in the slides\n",
    "\n",
    "\n",
    "for t in range(T):\n",
    "    Port[t] = np.dot(w5,Re[t]) + rf[t]  \n",
    "\n",
    "ExPort = Port - rf                       # excess return of the optimla portfolio\n",
    "muP = ExPort.mean()\n",
    "sig2P = ExPort.var()\n",
    "sigP = np.sqrt(sig2P)\n",
    "SharpeP = np.sqrt(12)*muP/sigP\n",
    "\n",
    "# For the mkt\n",
    " \n",
    "Sharpe = np.sqrt(12)*mu/sigma\n",
    "\n",
    "print('The Annualized Sharpe ratios of the Opt Port and Mkt \\n')\n",
    "print('          {0:.4f}   {1:.4f}  \\n'.format(SharpeP, Sharpe)) "
   ]
  },
  {
   "cell_type": "code",
   "execution_count": 6,
   "metadata": {},
   "outputs": [
    {
     "name": "stdout",
     "output_type": "stream",
     "text": [
      "Terminal wealth in Opt Port and Mkt  \n",
      "\n",
      "535573640539283.7\n",
      "2540.3983705076002\n"
     ]
    }
   ],
   "source": [
    "# Compute the accu returns of the opt port and the mkt\n",
    "\n",
    "CC_Port = np.ones((T,))          # to store the accumulative returns   \n",
    "CC = np.ones((T,))          # to store the accumulative returns \n",
    "\n",
    "mkt2 = mkt + rf       # Add back riskfree rate to get pure mkt return\n",
    "\n",
    "CC_Port[0] = 1+Port[0]             # initial accu return\n",
    "CC[0] = 1 + mkt2[0]                 # initial accu return\n",
    "\n",
    "for t in range(T-1):\n",
    "    CC_Port[t+1] = CC_Port[t]*(1+Port[t+1])\n",
    "    CC[t+1] = CC[t]*(1+mkt2[t+1])\n",
    "    \n",
    "print('Terminal wealth in Opt Port and Mkt  \\n')\n",
    "print(CC_Port[T-1])  \n",
    "print(CC[T-1])  "
   ]
  },
  {
   "cell_type": "code",
   "execution_count": 7,
   "metadata": {},
   "outputs": [
    {
     "data": {
      "image/png": "[encoded data removed]",
      "text/plain": [
       "<Figure size 432x288 with 1 Axes>"
      ]
     },
     "metadata": {
      "needs_background": "light"
     },
     "output_type": "display_data"
    }
   ],
   "source": [
    "# plot the accu returns  \n",
    "\n",
    "p=plt.plot(CC_Port)\n",
    "p1 = plt.plot(CC)"
   ]
  },
  {
   "cell_type": "code",
   "execution_count": null,
   "metadata": {},
   "outputs": [],
   "source": []
  },
  {
   "cell_type": "code",
   "execution_count": null,
   "metadata": {},
   "outputs": [],
   "source": []
  }
 ],
 "metadata": {
  "anaconda-cloud": {},
  "kernelspec": {
   "display_name": "Python 3",
   "language": "python",
   "name": "python3"
  },
  "language_info": {
   "codemirror_mode": {
    "name": "ipython",
    "version": 3
   },
   "file_extension": ".py",
   "mimetype": "text/x-python",
   "name": "python",
   "nbconvert_exporter": "python",
   "pygments_lexer": "ipython3",
   "version": "3.7.6"
  }
 },
 "nbformat": 4,
 "nbformat_minor": 1
}
